{
 "cells": [
  {
   "cell_type": "markdown",
   "id": "986040f5-32e4-46f0-aae1-fa7a600284c6",
   "metadata": {
    "tags": []
   },
   "source": [
    "# Long message attack\n",
    "\n",
    "todo write some description here\n",
    "\n",
    "# What does the code do?\n",
    "\n",
    "It starts with $n = 16$, i.e. the compression function has 16 active bits in the output (at most). It then starts with small number of l and tries to increase until it reaches $2^n$, while doing this the program would compute the energy cost and try to find the best $l$ possible for a fixed n. \n"
   ]
  },
  {
   "cell_type": "code",
   "execution_count": 15,
   "id": "3458c83e-e4c3-4bd3-9864-33f5998027dd",
   "metadata": {},
   "outputs": [
    {
     "name": "stderr",
     "output_type": "stream",
     "text": [
      "sudo: a terminal is required to read the password; either use the -S option to read from standard input or configure an askpass helper\n",
      "sudo: a password is required\n"
     ]
    },
    {
     "data": {
      "text/plain": [
       "256"
      ]
     },
     "execution_count": 15,
     "metadata": {},
     "output_type": "execute_result"
    }
   ],
   "source": [
    "import subprocess\n",
    "import os\n",
    "\n",
    "\n",
    "os.system(r\"sudo perf stat -o stats.txt -a -r 2 -e power/energy-pkg/ ./long_message_attack 30 15\")\n"
   ]
  },
  {
   "cell_type": "code",
   "execution_count": 28,
   "id": "c790a8d0-03ca-4adf-b60f-8887c7f6ced7",
   "metadata": {},
   "outputs": [
    {
     "name": "stdout",
     "output_type": "stream",
     "text": [
      "1.16\n"
     ]
    },
    {
     "name": "stderr",
     "output_type": "stream",
     "text": [
      "failed to create output file: Permission denied\n"
     ]
    }
   ],
   "source": [
    "def cost_n_l(n, l):\n",
    "    \"\"\"\n",
    "    Given\n",
    "      n: number of bits of the compression functtion\n",
    "      l: 2^l is the number blocks\n",
    "    \"\"\"\n",
    "    import subprocess\n",
    "    \n",
    "    command = f\"perf stat -o stats.txt -a -r 2 -e power/energy-pkg/ ./long_message_attack {n} {l}\" #\"perf stat -a -e power/energy-pkg/ ./long_message_attack 30 15\"\n",
    "    command = command.split()\n",
    "    p = subprocess.run(command, stdout=subprocess.PIPE).stdout.decode('utf-8')\n",
    "\n",
    "    # open file\n",
    "    with open(\"stats.txt\", \"r\") as f:\n",
    "        lines = f.readlines()\n",
    "\n",
    "        idx = -1\n",
    "        for i in range(len(lines)):\n",
    "            if \"Joules\" in lines[i]:\n",
    "                idx = i\n",
    "                break\n",
    "\n",
    "        # clean line  \n",
    "        line = lines[idx]\n",
    "        line = line.strip()\n",
    "        idx2 = line.index('g/')\n",
    "        line = line[:idx2+1]\n",
    "        idx_joule = line.index(\"J\")\n",
    "        joules = float(line[:idx_joule-1])\n",
    "    \n",
    "    return joules\n",
    "\n",
    "def min_cost(n):\n",
    "    cost = cost_n_l(2, 1)\n",
    "    l = 1\n",
    "    \n",
    "    for i in range(1, n, 0.5):\n",
    "        tmp_cost = cost(n, i)\n",
    "        if tmp_cost < cost:\n",
    "            cost = tmp_cost\n",
    "            l = i\n",
    "    \n",
    "    return l, cost\n",
    "\n",
    "\n",
    "\n",
    "if __name__ == \"__main__\":\n",
    "    print(\"For each n, we try to find the best l the minimizes the energy consumption\")\n",
    "    \n",
    "    for n in range(16, 40):\n",
    "        l, cost = min_cost(n)\n",
    "        print(f\"n={n}, l={l}, cost={cost} Joules\")\n"
   ]
  },
  {
   "cell_type": "code",
   "execution_count": 25,
   "id": "6412496f-a45c-4bb1-a7a3-bef7ac8763be",
   "metadata": {},
   "outputs": [],
   "source": [
    "p = 'INPUT:- 30 number of bits in the compression function\\n      - 32768 is the number of blocks\\n_____________________________________________\\nFound a collision with the following details:\\n#random message trials=7782, index=7482, M=0xf7fcfd20\\n_______________________________________\\nHash message 1:\\n0x59ba4b23\\nHash message 2:\\n0x59ba4b23\\n_______________________________________\\n'\n"
   ]
  },
  {
   "cell_type": "code",
   "execution_count": 26,
   "id": "319478b5-e134-4ba9-a97f-941560b08624",
   "metadata": {},
   "outputs": [
    {
     "data": {
      "text/plain": [
       "['INPUT:- 30 number of bits in the compression function',\n",
       " '      - 32768 is the number of blocks',\n",
       " '_____________________________________________',\n",
       " 'Found a collision with the following details:',\n",
       " '#random message trials=7782, index=7482, M=0xf7fcfd20',\n",
       " '_______________________________________',\n",
       " 'Hash message 1:',\n",
       " '0x59ba4b23',\n",
       " 'Hash message 2:',\n",
       " '0x59ba4b23',\n",
       " '_______________________________________',\n",
       " '']"
      ]
     },
     "execution_count": 26,
     "metadata": {},
     "output_type": "execute_result"
    }
   ],
   "source": [
    "p.split(\"\\n\")"
   ]
  },
  {
   "cell_type": "code",
   "execution_count": 2,
   "id": "50ff79d6-45fd-4ae8-8b55-723b3fd9f4b5",
   "metadata": {},
   "outputs": [],
   "source": [
    "import re \n",
    "\n",
    "expression = re.compile(r\"(\\d)*\\.(\\d)* Joules\")"
   ]
  },
  {
   "cell_type": "code",
   "execution_count": 9,
   "id": "a6765f40-818c-4f17-8acb-5a4df07c4330",
   "metadata": {},
   "outputs": [
    {
     "data": {
      "text/plain": [
       "\"# started on Thu Sep 15 18:16:43 2022\\n\\n\\n Performance counter stats for 'system wide' (2 runs):\\n\\n              1.14 Joules power/energy-pkg/                                             ( +-  5.47% )\\n\\n          0.036006 +- 0.000765 seconds time elapsed  ( +-  2.13% )\\n\\n\""
      ]
     },
     "execution_count": 9,
     "metadata": {},
     "output_type": "execute_result"
    }
   ],
   "source": [
    "f = open(\"stats.txt\", \"r\")\n",
    "lines = \"\".join(f.readlines())\n",
    "lines"
   ]
  },
  {
   "cell_type": "code",
   "execution_count": 8,
   "id": "379b8993-f79c-4948-bb50-90c67b1e8a01",
   "metadata": {},
   "outputs": [
    {
     "name": "stdout",
     "output_type": "stream",
     "text": [
      "None\n"
     ]
    }
   ],
   "source": [
    "print(expression.match(lines))"
   ]
  }
 ],
 "metadata": {
  "kernelspec": {
   "display_name": "Python 3 (ipykernel)",
   "language": "python",
   "name": "python3"
  },
  "language_info": {
   "codemirror_mode": {
    "name": "ipython",
    "version": 3
   },
   "file_extension": ".py",
   "mimetype": "text/x-python",
   "name": "python",
   "nbconvert_exporter": "python",
   "pygments_lexer": "ipython3",
   "version": "3.9.12"
  }
 },
 "nbformat": 4,
 "nbformat_minor": 5
}
