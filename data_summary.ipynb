{
 "cells": [
  {
   "cell_type": "code",
   "execution_count": 1,
   "id": "d065766c-d13a-4c1c-a8f9-81956386238c",
   "metadata": {
    "editable": true,
    "slideshow": {
     "slide_type": ""
    },
    "tags": []
   },
   "outputs": [],
   "source": [
    "import pandas as pd\n",
    "import numpy as np"
   ]
  },
  {
   "cell_type": "code",
   "execution_count": 2,
   "id": "7ad54fc7-3027-4e3a-8ffc-8047b62a22ac",
   "metadata": {},
   "outputs": [],
   "source": [
    "df = pd.read_csv(\"data/stats/receivers.csv\")"
   ]
  },
  {
   "cell_type": "code",
   "execution_count": 3,
   "id": "53580f62-859f-4cef-acb9-35fe699f6c7c",
   "metadata": {
    "scrolled": true
   },
   "outputs": [
    {
     "data": {
      "text/html": [
       "<div>\n",
       "<style scoped>\n",
       "    .dataframe tbody tr th:only-of-type {\n",
       "        vertical-align: middle;\n",
       "    }\n",
       "\n",
       "    .dataframe tbody tr th {\n",
       "        vertical-align: top;\n",
       "    }\n",
       "\n",
       "    .dataframe thead th {\n",
       "        text-align: right;\n",
       "    }\n",
       "</style>\n",
       "<table border=\"1\" class=\"dataframe\">\n",
       "  <thead>\n",
       "    <tr style=\"text-align: right;\">\n",
       "      <th></th>\n",
       "      <th>time_sec</th>\n",
       "      <th>mpi_recv_sec</th>\n",
       "      <th>dict_add_sec</th>\n",
       "      <th>dict_add_speed_MB</th>\n",
       "      <th>mpi_recv_percent</th>\n",
       "      <th>dict_add_percent</th>\n",
       "      <th>recv_speed_MB</th>\n",
       "      <th>exp_all_receivers_MB</th>\n",
       "      <th>nsenders</th>\n",
       "      <th>nreceivers</th>\n",
       "      <th>difficulty</th>\n",
       "      <th>interval</th>\n",
       "      <th>nmsgs_recv</th>\n",
       "      <th>nfound_cnd</th>\n",
       "      <th>new_cnd</th>\n",
       "      <th>receiver_name</th>\n",
       "    </tr>\n",
       "  </thead>\n",
       "  <tbody>\n",
       "    <tr>\n",
       "      <th>1</th>\n",
       "      <td>156.242170</td>\n",
       "      <td>107.379969</td>\n",
       "      <td>48.117716</td>\n",
       "      <td>41.336126</td>\n",
       "      <td>68.726624</td>\n",
       "      <td>30.796882</td>\n",
       "      <td>12.730238</td>\n",
       "      <td>6645.184199</td>\n",
       "      <td>406</td>\n",
       "      <td>522</td>\n",
       "      <td>3</td>\n",
       "      <td>23</td>\n",
       "      <td>1989</td>\n",
       "      <td>1</td>\n",
       "      <td>1</td>\n",
       "      <td>98</td>\n",
       "    </tr>\n",
       "    <tr>\n",
       "      <th>2</th>\n",
       "      <td>145.582376</td>\n",
       "      <td>96.887173</td>\n",
       "      <td>47.935300</td>\n",
       "      <td>42.724256</td>\n",
       "      <td>66.551444</td>\n",
       "      <td>32.926581</td>\n",
       "      <td>14.067637</td>\n",
       "      <td>7343.306445</td>\n",
       "      <td>406</td>\n",
       "      <td>522</td>\n",
       "      <td>3</td>\n",
       "      <td>23</td>\n",
       "      <td>2048</td>\n",
       "      <td>2</td>\n",
       "      <td>1</td>\n",
       "      <td>98</td>\n",
       "    </tr>\n",
       "    <tr>\n",
       "      <th>3</th>\n",
       "      <td>588.038918</td>\n",
       "      <td>377.098013</td>\n",
       "      <td>207.692922</td>\n",
       "      <td>42.331727</td>\n",
       "      <td>64.128071</td>\n",
       "      <td>35.319588</td>\n",
       "      <td>14.951391</td>\n",
       "      <td>7804.626295</td>\n",
       "      <td>406</td>\n",
       "      <td>522</td>\n",
       "      <td>3</td>\n",
       "      <td>23</td>\n",
       "      <td>8792</td>\n",
       "      <td>3</td>\n",
       "      <td>1</td>\n",
       "      <td>98</td>\n",
       "    </tr>\n",
       "    <tr>\n",
       "      <th>4</th>\n",
       "      <td>101.163828</td>\n",
       "      <td>63.641211</td>\n",
       "      <td>36.927411</td>\n",
       "      <td>43.707370</td>\n",
       "      <td>62.909058</td>\n",
       "      <td>36.502584</td>\n",
       "      <td>15.954319</td>\n",
       "      <td>8328.154613</td>\n",
       "      <td>406</td>\n",
       "      <td>522</td>\n",
       "      <td>3</td>\n",
       "      <td>23</td>\n",
       "      <td>1614</td>\n",
       "      <td>4</td>\n",
       "      <td>1</td>\n",
       "      <td>98</td>\n",
       "    </tr>\n",
       "    <tr>\n",
       "      <th>5</th>\n",
       "      <td>1043.624375</td>\n",
       "      <td>655.746375</td>\n",
       "      <td>381.905894</td>\n",
       "      <td>42.782791</td>\n",
       "      <td>62.833563</td>\n",
       "      <td>36.594191</td>\n",
       "      <td>15.656016</td>\n",
       "      <td>8172.440397</td>\n",
       "      <td>406</td>\n",
       "      <td>522</td>\n",
       "      <td>3</td>\n",
       "      <td>23</td>\n",
       "      <td>16339</td>\n",
       "      <td>5</td>\n",
       "      <td>1</td>\n",
       "      <td>98</td>\n",
       "    </tr>\n",
       "  </tbody>\n",
       "</table>\n",
       "</div>"
      ],
      "text/plain": [
       "      time_sec  mpi_recv_sec  dict_add_sec  dict_add_speed_MB  \\\n",
       "1   156.242170    107.379969     48.117716          41.336126   \n",
       "2   145.582376     96.887173     47.935300          42.724256   \n",
       "3   588.038918    377.098013    207.692922          42.331727   \n",
       "4   101.163828     63.641211     36.927411          43.707370   \n",
       "5  1043.624375    655.746375    381.905894          42.782791   \n",
       "\n",
       "   mpi_recv_percent  dict_add_percent  recv_speed_MB  exp_all_receivers_MB  \\\n",
       "1         68.726624         30.796882      12.730238           6645.184199   \n",
       "2         66.551444         32.926581      14.067637           7343.306445   \n",
       "3         64.128071         35.319588      14.951391           7804.626295   \n",
       "4         62.909058         36.502584      15.954319           8328.154613   \n",
       "5         62.833563         36.594191      15.656016           8172.440397   \n",
       "\n",
       "   nsenders  nreceivers  difficulty  interval  nmsgs_recv  nfound_cnd  \\\n",
       "1       406         522           3        23        1989           1   \n",
       "2       406         522           3        23        2048           2   \n",
       "3       406         522           3        23        8792           3   \n",
       "4       406         522           3        23        1614           4   \n",
       "5       406         522           3        23       16339           5   \n",
       "\n",
       "   new_cnd  receiver_name  \n",
       "1        1             98  \n",
       "2        1             98  \n",
       "3        1             98  \n",
       "4        1             98  \n",
       "5        1             98  "
      ]
     },
     "execution_count": 3,
     "metadata": {},
     "output_type": "execute_result"
    }
   ],
   "source": [
    "# get all the \n",
    "df_receive = df[df[\"nfound_cnd\"] != 0]\n",
    "df_receive.head()"
   ]
  },
  {
   "cell_type": "code",
   "execution_count": 10,
   "id": "c173df2b-a514-4466-bc49-d803c977f8ba",
   "metadata": {},
   "outputs": [],
   "source": [
    "nreceivers = int(df.max()[\"receiver_name\"]) + 1\n",
    "df_rgen_msg = df[df[\"nfound_cnd\"] == 0]\n",
    "df_rgen_msg_all = []\n",
    "\n",
    "\n",
    "for i in range(nreceivers):\n",
    "    df_rgen_msg_all.append(df_rgen_msg[df_rgen_msg[\"receiver_name\"] == i])\n",
    "    "
   ]
  },
  {
   "cell_type": "code",
   "execution_count": 15,
   "id": "04804f14-0d88-416b-b47b-5beb1d06f7be",
   "metadata": {},
   "outputs": [
    {
     "data": {
      "text/plain": [
       "<Axes: >"
      ]
     },
     "execution_count": 15,
     "metadata": {},
     "output_type": "execute_result"
    },
    {
     "data": {
      "image/png": "[encoded data removed]",
      "text/plain": [
       "<Figure size 640x480 with 1 Axes>"
      ]
     },
     "metadata": {},
     "output_type": "display_data"
    }
   ],
   "source": [
    "df_rgen_msg[[\"nmsgs_recv\"]].plot()"
   ]
  },
  {
   "cell_type": "code",
   "execution_count": 20,
   "id": "ded0e7e7-b1ec-48e4-bd3f-7b120e861bbe",
   "metadata": {},
   "outputs": [],
   "source": [
    "# get data for receivers in the wild after regen messages\n",
    "\n",
    "nreceivers = int(df.max()[\"receiver_name\"]) + 1\n",
    "df_recv = df[df[\"nfound_cnd\"] != 0]\n",
    "df_recv_all = []\n",
    "\n",
    "\n",
    "for i in range(nreceivers):\n",
    "    df_recv_all.append(df_recv[df_recv[\"receiver_name\"] == i].mean())"
   ]
  },
  {
   "cell_type": "code",
   "execution_count": 24,
   "id": "fd1ad021-f67d-499e-b032-27bd29176733",
   "metadata": {},
   "outputs": [],
   "source": [
    "df_recv_all[0]\n",
    "df_recv_merg = pd.concat(df_recv_all) # df = pd.concat(L, axis=1)"
   ]
  },
  {
   "cell_type": "code",
   "execution_count": 31,
   "id": "7cd703f8-7f31-42a9-8598-f1b4e0f14e90",
   "metadata": {
    "editable": true,
    "slideshow": {
     "slide_type": ""
    },
    "tags": []
   },
   "outputs": [
    {
     "data": {
      "text/plain": [
       "<Axes: >"
      ]
     },
     "execution_count": 31,
     "metadata": {},
     "output_type": "execute_result"
    },
    {
     "data": {
      "image/png": "[encoded data removed]",
      "text/plain": [
       "<Figure size 640x480 with 1 Axes>"
      ]
     },
     "metadata": {},
     "output_type": "display_data"
    }
   ],
   "source": [
    "df_recv_merg[[\"nmsgs_recv\"]].plot(kind=\"bar\")"
   ]
  },
  {
   "cell_type": "code",
   "execution_count": 32,
   "id": "023cfca4-a93b-4138-8e28-5ee97d90cbd0",
   "metadata": {},
   "outputs": [
    {
     "data": {
      "text/plain": [
       "count      522.000000\n",
       "mean      5454.276022\n",
       "std       1972.463314\n",
       "min       2573.944444\n",
       "25%       4184.894231\n",
       "50%       4942.333333\n",
       "75%       6351.940476\n",
       "max      19349.333333\n",
       "dtype: float64"
      ]
     },
     "execution_count": 32,
     "metadata": {},
     "output_type": "execute_result"
    }
   ],
   "source": [
    "df_recv_merg[[\"nmsgs_recv\"]].describe()"
   ]
  },
  {
   "cell_type": "code",
   "execution_count": 44,
   "id": "cc68a4f3-560e-43c6-9f40-07bb313c73a0",
   "metadata": {},
   "outputs": [
    {
     "data": {
      "text/html": [
       "<div>\n",
       "<style scoped>\n",
       "    .dataframe tbody tr th:only-of-type {\n",
       "        vertical-align: middle;\n",
       "    }\n",
       "\n",
       "    .dataframe tbody tr th {\n",
       "        vertical-align: top;\n",
       "    }\n",
       "\n",
       "    .dataframe thead th {\n",
       "        text-align: right;\n",
       "    }\n",
       "</style>\n",
       "<table border=\"1\" class=\"dataframe\">\n",
       "  <thead>\n",
       "    <tr style=\"text-align: right;\">\n",
       "      <th></th>\n",
       "      <th>a</th>\n",
       "      <th>b</th>\n",
       "      <th>c</th>\n",
       "      <th>d</th>\n",
       "    </tr>\n",
       "  </thead>\n",
       "  <tbody>\n",
       "    <tr>\n",
       "      <th>0</th>\n",
       "      <td>0.427013</td>\n",
       "      <td>0.669489</td>\n",
       "      <td>0.676262</td>\n",
       "      <td>0.086309</td>\n",
       "    </tr>\n",
       "    <tr>\n",
       "      <th>1</th>\n",
       "      <td>0.962536</td>\n",
       "      <td>0.737550</td>\n",
       "      <td>0.902455</td>\n",
       "      <td>0.954597</td>\n",
       "    </tr>\n",
       "    <tr>\n",
       "      <th>2</th>\n",
       "      <td>0.379520</td>\n",
       "      <td>0.739962</td>\n",
       "      <td>0.707025</td>\n",
       "      <td>0.069338</td>\n",
       "    </tr>\n",
       "    <tr>\n",
       "      <th>3</th>\n",
       "      <td>0.107720</td>\n",
       "      <td>0.024749</td>\n",
       "      <td>0.136781</td>\n",
       "      <td>0.467688</td>\n",
       "    </tr>\n",
       "    <tr>\n",
       "      <th>4</th>\n",
       "      <td>0.448963</td>\n",
       "      <td>0.551095</td>\n",
       "      <td>0.220130</td>\n",
       "      <td>0.680630</td>\n",
       "    </tr>\n",
       "    <tr>\n",
       "      <th>5</th>\n",
       "      <td>0.811163</td>\n",
       "      <td>0.720550</td>\n",
       "      <td>0.955549</td>\n",
       "      <td>0.181373</td>\n",
       "    </tr>\n",
       "    <tr>\n",
       "      <th>6</th>\n",
       "      <td>0.755040</td>\n",
       "      <td>0.092243</td>\n",
       "      <td>0.199991</td>\n",
       "      <td>0.137192</td>\n",
       "    </tr>\n",
       "    <tr>\n",
       "      <th>7</th>\n",
       "      <td>0.554433</td>\n",
       "      <td>0.713843</td>\n",
       "      <td>0.118768</td>\n",
       "      <td>0.230112</td>\n",
       "    </tr>\n",
       "    <tr>\n",
       "      <th>8</th>\n",
       "      <td>0.565784</td>\n",
       "      <td>0.274811</td>\n",
       "      <td>0.140904</td>\n",
       "      <td>0.578425</td>\n",
       "    </tr>\n",
       "    <tr>\n",
       "      <th>9</th>\n",
       "      <td>0.813657</td>\n",
       "      <td>0.187175</td>\n",
       "      <td>0.738326</td>\n",
       "      <td>0.543155</td>\n",
       "    </tr>\n",
       "  </tbody>\n",
       "</table>\n",
       "</div>"
      ],
      "text/plain": [
       "          a         b         c         d\n",
       "0  0.427013  0.669489  0.676262  0.086309\n",
       "1  0.962536  0.737550  0.902455  0.954597\n",
       "2  0.379520  0.739962  0.707025  0.069338\n",
       "3  0.107720  0.024749  0.136781  0.467688\n",
       "4  0.448963  0.551095  0.220130  0.680630\n",
       "5  0.811163  0.720550  0.955549  0.181373\n",
       "6  0.755040  0.092243  0.199991  0.137192\n",
       "7  0.554433  0.713843  0.118768  0.230112\n",
       "8  0.565784  0.274811  0.140904  0.578425\n",
       "9  0.813657  0.187175  0.738326  0.543155"
      ]
     },
     "execution_count": 44,
     "metadata": {},
     "output_type": "execute_result"
    }
   ],
   "source": [
    "df2"
   ]
  },
  {
   "cell_type": "code",
   "execution_count": null,
   "id": "102fbb8a-18ac-4cd2-9ac3-8660620831fe",
   "metadata": {},
   "outputs": [],
   "source": []
  }
 ],
 "metadata": {
  "kernelspec": {
   "display_name": "Python 3 (ipykernel)",
   "language": "python",
   "name": "python3"
  },
  "language_info": {
   "codemirror_mode": {
    "name": "ipython",
    "version": 3
   },
   "file_extension": ".py",
   "mimetype": "text/x-python",
   "name": "python",
   "nbconvert_exporter": "python",
   "pygments_lexer": "ipython3",
   "version": "3.10.12"
  }
 },
 "nbformat": 4,
 "nbformat_minor": 5
}
