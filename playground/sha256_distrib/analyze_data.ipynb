{
 "cells": [
  {
   "cell_type": "code",
   "execution_count": 1,
   "id": "1f41adb1",
   "metadata": {},
   "outputs": [],
   "source": [
    "from collections import defaultdict\n",
    "\n",
    "def binary_file_to_integers(filename, chunk_size):\n",
    "    \"\"\"\n",
    "    Read a binary file in chunks of bytes and convert each chunk to an integer.\n",
    "    \n",
    "    Args:\n",
    "    - filename (str): Path to the binary file.\n",
    "    - chunk_size (int): Number of bytes per chunk.\n",
    "    \n",
    "    Returns:\n",
    "    - defaultdict: A dictionary with integers as keys and their occurrences as values.\n",
    "    \"\"\"\n",
    "    int_counts = defaultdict(int)\n",
    "    \n",
    "    with open(filename, 'rb') as f:\n",
    "        while True:\n",
    "            chunk = f.read(chunk_size)\n",
    "            if len(chunk) == 0:\n",
    "                break\n",
    "            \n",
    "            # Convert bytes to integer\n",
    "            chunk_int = int.from_bytes(chunk, byteorder='big')\n",
    "            \n",
    "            # Count occurrences\n",
    "            int_counts[chunk_int] += 1\n",
    "                \n",
    "    return int_counts\n",
    "\n",
    "filename = \"data/states\"\n",
    "chunk_size = 32  # bytes of digest\n",
    "result = binary_file_to_integers(filename, chunk_size)\n",
    "\n"
   ]
  },
  {
   "cell_type": "code",
   "execution_count": 2,
   "id": "540d2c57",
   "metadata": {},
   "outputs": [
    {
     "data": {
      "text/plain": [
       "{1}"
      ]
     },
     "execution_count": 2,
     "metadata": {},
     "output_type": "execute_result"
    }
   ],
   "source": [
    "# set of all occurences of digests, e.g. {1} means all digests occur once\n",
    "set( a[1] for a in result.items())\n"
   ]
  },
  {
   "cell_type": "code",
   "execution_count": null,
   "id": "3e205fa6",
   "metadata": {},
   "outputs": [],
   "source": [
    "# read the data collected from experiments\n",
    "# first line of \n",
    "\n",
    "!cat data/dist* > data/dist"
   ]
  }
 ],
 "metadata": {
  "kernelspec": {
   "display_name": "Python 3 (ipykernel)",
   "language": "python",
   "name": "python3"
  },
  "language_info": {
   "codemirror_mode": {
    "name": "ipython",
    "version": 3
   },
   "file_extension": ".py",
   "mimetype": "text/x-python",
   "name": "python",
   "nbconvert_exporter": "python",
   "pygments_lexer": "ipython3",
   "version": "3.10.12"
  }
 },
 "nbformat": 4,
 "nbformat_minor": 5
}
